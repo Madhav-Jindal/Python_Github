{
 "cells": [
  {
   "cell_type": "markdown",
   "metadata": {},
   "source": [
    "###  Working With Files\n",
    "       use open(filename, mode) to open a file\n",
    "       Files can be read through for loop interpreted as a sequence\n",
    "       use filehandle.read() to read the file into a single string\n",
    "       startswith('Text to be searched')\n",
    "       use filehandle.rstrip() to eliminate white spaces"
   ]
  },
  {
   "cell_type": "markdown",
   "metadata": {},
   "source": [
    "### Newline character \n",
    "    Counts as a single character\n",
    "    \\n\n",
    "    "
   ]
  }
 ],
 "metadata": {
  "kernelspec": {
   "display_name": "Python 3",
   "language": "python",
   "name": "python3"
  },
  "language_info": {
   "codemirror_mode": {
    "name": "ipython",
    "version": 3
   },
   "file_extension": ".py",
   "mimetype": "text/x-python",
   "name": "python",
   "nbconvert_exporter": "python",
   "pygments_lexer": "ipython3",
   "version": "3.8.2"
  }
 },
 "nbformat": 4,
 "nbformat_minor": 4
}
