{
 "cells": [
  {
   "cell_type": "markdown",
   "metadata": {},
   "source": [
    "## Functions"
   ]
  },
  {
   "cell_type": "markdown",
   "metadata": {},
   "source": [
    "## Syntax\n",
    "### Creating Function\n",
    "    \n",
    "     def function_name(arg):\n",
    "          statement_1\n",
    "          statement_2\n",
    "          return_statement\n",
    "### To call function\n",
    "    function_name(arg)"
   ]
  },
  {
   "cell_type": "code",
   "execution_count": 1,
   "metadata": {},
   "outputs": [
    {
     "output_type": "stream",
     "name": "stdout",
     "text": "10\n9\n8\n7\n6\n5\n4\n3\n2\n1\nSum is\n 232\n"
    }
   ],
   "source": [
    "\n",
    "def printn():\n",
    "    n=input(\"Enter number \")\n",
    "    n=int(n)\n",
    "    while n>0:\n",
    "        print(n)\n",
    "        n=n-1\n",
    "printn()\n",
    "############################################\n",
    "a=input('Enter 1st number ')\n",
    "b=input('Enter 2nd number ')\n",
    "def addtwo(x,y):\n",
    "    return x+y\n",
    "x=addtwo(int(a),int(b))\n",
    "\n",
    "print(\"Sum is\\n\",x)"
   ]
  },
  {
   "cell_type": "markdown",
   "metadata": {},
   "source": [
    "Max function\n",
    "    Returns the maxium from the input, works on string\n",
    "Min function\n",
    "    Returns the minimum from the input, works on string"
   ]
  },
  {
   "cell_type": "code",
   "execution_count": 2,
   "metadata": {},
   "outputs": [
    {
     "output_type": "stream",
     "name": "stdout",
     "text": "w\nd\n"
    }
   ],
   "source": [
    "big=max(\"hello world\")\n",
    "small=min(\"helloworld\")\n",
    "print(big)\n",
    "print(small)"
   ]
  },
  {
   "cell_type": "markdown",
   "metadata": {},
   "source": [
    "Type function \n",
    "    returns the data type of the variable"
   ]
  },
  {
   "cell_type": "code",
   "execution_count": 3,
   "metadata": {
    "scrolled": true
   },
   "outputs": [
    {
     "output_type": "execute_result",
     "data": {
      "text/plain": "int"
     },
     "metadata": {},
     "execution_count": 3
    }
   ],
   "source": [
    "x=42\n",
    "type(x)\n"
   ]
  },
  {
   "cell_type": "markdown",
   "metadata": {},
   "source": [
    "## Math function"
   ]
  },
  {
   "cell_type": "code",
   "execution_count": 4,
   "metadata": {},
   "outputs": [
    {
     "name": "stdout",
     "output_type": "stream",
     "text": [
      "0.7071067811865476\n",
      "0.7071067811865475\n"
     ]
    }
   ],
   "source": [
    "import math as m\n",
    "x=m.sqrt(2)/2\n",
    "print(x)\n",
    "print(m.sin(m.pi/4))"
   ]
  },
  {
   "cell_type": "markdown",
   "metadata": {},
   "source": [
    "## Random function "
   ]
  },
  {
   "cell_type": "code",
   "execution_count": 5,
   "metadata": {},
   "outputs": [
    {
     "name": "stdout",
     "output_type": "stream",
     "text": [
      "0.039618509605915064\n",
      "0.8683396567590654\n",
      "0.46886795769218803\n",
      "0.9545247925875738\n",
      "0.6803139572563679\n",
      "8\n"
     ]
    }
   ],
   "source": [
    "import random as r\n",
    "for i in range(5):\n",
    "    print(r.random())    #Prints random float  number between 0.0 and 1.o\n",
    "print(r.randint(5,10))   #Prints random number between 5 and 1o\n"
   ]
  }
 ],
 "metadata": {
  "kernelspec": {
   "display_name": "Python 3",
   "language": "python",
   "name": "python3"
  },
  "language_info": {
   "codemirror_mode": {
    "name": "ipython",
    "version": 3
   },
   "file_extension": ".py",
   "mimetype": "text/x-python",
   "name": "python",
   "nbconvert_exporter": "python",
   "pygments_lexer": "ipython3",
   "version": "3.8.2-final"
  }
 },
 "nbformat": 4,
 "nbformat_minor": 4
}