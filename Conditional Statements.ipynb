{
 "cells": [
  {
   "cell_type": "markdown",
   "metadata": {},
   "source": [
    "# Conditional Execution\n"
   ]
  },
  {
   "cell_type": "markdown",
   "metadata": {},
   "source": [
    "### If else statement"
   ]
  },
  {
   "cell_type": "markdown",
   "metadata": {},
   "source": [
    "Syntax of if else statemet.\n",
    "Indentation is important otherwise it will not recognise"
   ]
  },
  {
   "cell_type": "code",
   "execution_count": 4,
   "metadata": {},
   "outputs": [
    {
     "output_type": "stream",
     "name": "stdout",
     "text": "Smaller\n"
    }
   ],
   "source": [
    "x=input(\"Enter number to be checked\")\n",
    "if int(x)<10:\n",
    "    print(\"Smaller\")\n",
    "else:\n",
    "    print(\"Bigger\")"
   ]
  },
  {
   "cell_type": "markdown",
   "metadata": {},
   "source": [
    "### Nested if and elif"
   ]
  },
  {
   "cell_type": "code",
   "execution_count": 14,
   "metadata": {},
   "outputs": [
    {
     "name": "stdout",
     "output_type": "stream",
     "text": [
      "Enter number90\n",
      "Bigger than 40\n"
     ]
    }
   ],
   "source": [
    "x=input(\"Enter number\")\n",
    "x=int(x)\n",
    "if x<20:\n",
    "    print(\"Smaller than 20\")\n",
    "elif x>40:\n",
    "        print(\"Bigger than 40\")\n",
    "else:\n",
    "    print(\"Between 20 and 40\")\n"
   ]
  },
  {
   "cell_type": "markdown",
   "metadata": {},
   "source": [
    "### Try and Except \n",
    "       Use this to avoid traceback calls"
   ]
  },
  {
   "cell_type": "code",
   "execution_count": 3,
   "metadata": {},
   "outputs": [
    {
     "output_type": "stream",
     "name": "stdout",
     "text": "Bigger than 40\n"
    }
   ],
   "source": [
    "x=input(\"Enter number :\")\n",
    "try:\n",
    "    x=int(x)\n",
    "except:\n",
    "    x=-1\n",
    "if x>0 :\n",
    "    if x<20:\n",
    "        print(\"Smaller than 20\")\n",
    "    elif x>40:\n",
    "            print(\"Bigger than 40\")\n",
    "    else:\n",
    "        print(\"Between 20 and 40\")\n",
    "else :\n",
    "    print(\"Bad data\")"
   ]
  }
 ],
 "metadata": {
  "kernelspec": {
   "display_name": "Python 3.8.2 32-bit",
   "language": "python",
   "name": "python38232bita1491e12a8924728a442c660b23b1251"
  },
  "language_info": {
   "codemirror_mode": {
    "name": "ipython",
    "version": 3
   },
   "file_extension": ".py",
   "mimetype": "text/x-python",
   "name": "python",
   "nbconvert_exporter": "python",
   "pygments_lexer": "ipython3",
   "version": "3.8.2-final"
  }
 },
 "nbformat": 4,
 "nbformat_minor": 4
}