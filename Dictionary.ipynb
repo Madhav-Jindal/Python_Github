{
 "cells": [
  {
   "cell_type": "markdown",
   "metadata": {},
   "source": [
    "### Dictionaries\n",
    "       Get method for dictionaries\n",
    "       dictname.get(key,default)\n",
    "       In a for loop in a dict\n",
    "       the itereable variable goes through the keys and not the value\n",
    "       For dict. to list use .keys/.values/.items(for both)\n",
    "       Python can use multiple iteraation variable in for loop when accessing a dictionary \n",
    "       one for keys and other for values"
   ]
  },
  {
   "cell_type": "code",
   "execution_count": 20,
   "metadata": {},
   "outputs": [
    {
     "name": "stdout",
     "output_type": "stream",
     "text": [
      "{'fruit': 10, 'vegetable': 15}\n",
      "[1, 2, 3]\n",
      "<class 'list'>\n"
     ]
    }
   ],
   "source": [
    "bag=dict()\n",
    "bag['fruit']=10\n",
    "bag['vegetable']=15\n",
    "##for i in range(5):\n",
    "    ##bag[input(\"Enter name\")+str(i)]=input(\"Enter value\")\n",
    "print(bag)\n",
    "hello=[1,2,3]\n",
    "print(hello)\n",
    "str1=type(hello)\n",
    "print(str1)"
   ]
  },
  {
   "cell_type": "markdown",
   "metadata": {},
   "source": [
    "#### Simplified counting with .get()\n",
    "    \n",
    "                **Importatnt**"
   ]
  },
  {
   "cell_type": "code",
   "execution_count": 22,
   "metadata": {},
   "outputs": [
    {
     "name": "stdout",
     "output_type": "stream",
     "text": [
      "{'madhav': 2, 'prachi': 1, 'winny': 1, 'puneet': 1}\n"
     ]
    }
   ],
   "source": [
    "count=dict()\n",
    "names=['madhav','prachi','winny','puneet','madhav']\n",
    "for name in names:\n",
    "    count[name]=count.get(name,0)+1\n",
    "print(count)"
   ]
  }
 ],
 "metadata": {
  "kernelspec": {
   "display_name": "Python 3.8.2 32-bit",
   "language": "python",
   "name": "python38232bita1491e12a8924728a442c660b23b1251"
  },
  "language_info": {
   "codemirror_mode": {
    "name": "ipython",
    "version": 3
   },
   "file_extension": ".py",
   "mimetype": "text/x-python",
   "name": "python",
   "nbconvert_exporter": "python",
   "pygments_lexer": "ipython3",
   "version": "3.8.2"
  }
 },
 "nbformat": 4,
 "nbformat_minor": 4
}
