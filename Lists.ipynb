{
 "cells": [
  {
   "cell_type": "markdown",
   "metadata": {},
   "source": [
    "### LISTS\n",
    "    Lists are surrounded by square brackets and the elements in the list are seperated by commas\n",
    "    A list can also contain another list\n",
    "    Strings are mutable unlike strings\n",
    "    Lists can be conctenated and sliced\n",
    "    .sort/.append\n",
    "    sum(name)/max(name)/len(name)"
   ]
  },
  {
   "cell_type": "code",
   "execution_count": 29,
   "metadata": {},
   "outputs": [
    {
     "name": "stdout",
     "output_type": "stream",
     "text": [
      "This is a list [1,2,3]\n",
      "This is also a  list ['red','yellow','blue']\n",
      "1\n",
      "2\n",
      "3\n",
      "4\n",
      "5\n",
      "[1, 2, 0, 4, 5]\n",
      "range(0, 2)\n",
      "['Hello', 'World']\n",
      "['a', 'd', 'e', 'z']\n",
      "12\n"
     ]
    }
   ],
   "source": [
    "print(\"This is a list\",\"[1,2,3]\")\n",
    "print(\"This is also a  list\",\"['red','yellow','blue']\")\n",
    "\n",
    "##Using lists in loops\n",
    "x=[1,2,3,4,5]\n",
    "for y in x:\n",
    "    print(x[y-1])\n",
    "##Updating lists\n",
    "x[2]=0\n",
    "print(x)\n",
    "print(range(2))\n",
    "##Appending lists\n",
    "l=list()\n",
    "l.append(\"Hello\")\n",
    "l.append(\"World\")\n",
    "print(l)\n",
    "l=['z','a','d','e']\n",
    "l.sort()\n",
    "print(l)\n",
    "print(sum(x))\n"
   ]
  },
  {
   "cell_type": "markdown",
   "metadata": {},
   "source": [
    "### List and strings\n",
    "    .split breaks the strings and returns the individual words in a list\n",
    "    .split(;) to explicitily tell split to use () as seperator\n",
    "##### To break a line into words and then look through them individually use split and for loop\n",
    "    \n",
    "\n",
    "    \n",
    "    "
   ]
  },
  {
   "cell_type": "code",
   "execution_count": 34,
   "metadata": {},
   "outputs": [
    {
     "name": "stdout",
     "output_type": "stream",
     "text": [
      "NAME\n"
     ]
    }
   ],
   "source": [
    "w=\"Hello World , My name is madhav\"\n",
    "x=w.upper()\n",
    "p=x.split()\n",
    "print(p[4])"
   ]
  },
  {
   "cell_type": "code",
   "execution_count": 48,
   "metadata": {},
   "outputs": [
    {
     "name": "stdout",
     "output_type": "stream",
     "text": [
      "10\n",
      "[12, 3]\n"
     ]
    }
   ],
   "source": [
    "o=list(range(5))\n",
    "x=[2,3,4,5,6]\n",
    "print(len(o+x))\n",
    "t = [9, 41, 12, 3, 74, 15]\n",
    "print(t[2:4])"
   ]
  },
  {
   "cell_type": "markdown",
   "metadata": {},
   "source": [
    "List comprehensions \n",
    "Examples"
   ]
  },
  {
   "cell_type": "code",
   "execution_count": 2,
   "metadata": {
    "tags": []
   },
   "outputs": [
    {
     "output_type": "stream",
     "name": "stdout",
     "text": "[[0, 0], [0, 1], [0, 2], [0, 3], [0, 4], [0, 5], [0, 6], [0, 7], [0, 8], [0, 9], [1, 0], [1, 1], [1, 2], [1, 3], [1, 4], [1, 5], [1, 6], [1, 7], [1, 8], [2, 0], [2, 1], [2, 2], [2, 3], [2, 4], [2, 5], [2, 6], [2, 7], [2, 9], [3, 0], [3, 1], [3, 2], [3, 3], [3, 4], [3, 5], [3, 6], [3, 8], [3, 9], [4, 0], [4, 1], [4, 2], [4, 3], [4, 4], [4, 5], [4, 7], [4, 8], [4, 9], [5, 0], [5, 1], [5, 2], [5, 3], [5, 4], [5, 6], [5, 7], [5, 8], [5, 9], [6, 0], [6, 1], [6, 2], [6, 3], [6, 5], [6, 6], [6, 7], [6, 8], [6, 9], [7, 0], [7, 1], [7, 2], [7, 4], [7, 5], [7, 6], [7, 7], [7, 8], [7, 9], [8, 0], [8, 1], [8, 3], [8, 4], [8, 5], [8, 6], [8, 7], [8, 8], [8, 9], [9, 0], [9, 2], [9, 3], [9, 4], [9, 5], [9, 6], [9, 7], [9, 8], [9, 9]]\n"
    }
   ],
   "source": [
    "hello=[[i,j] for i in range(10) for j in range (10) if((i+j)!=10)]\n",
    "print(hello)"
   ]
  },
  {
   "cell_type": "code",
   "execution_count": 4,
   "metadata": {
    "tags": []
   },
   "outputs": [
    {
     "output_type": "stream",
     "name": "stdout",
     "text": "['Even', 'Odd', 'Even', 'Odd', 'Even', 'Odd', 'Even', 'Odd', 'Even', 'Odd']\n"
    }
   ],
   "source": [
    "print([\"Even\" if i%2==0 else \"Odd\" for i in range(10)])"
   ]
  }
 ],
 "metadata": {
  "kernelspec": {
   "display_name": "Python 3.8.2 32-bit",
   "language": "python",
   "name": "python38232bita1491e12a8924728a442c660b23b1251"
  },
  "language_info": {
   "codemirror_mode": {
    "name": "ipython",
    "version": 3
   },
   "file_extension": ".py",
   "mimetype": "text/x-python",
   "name": "python",
   "nbconvert_exporter": "python",
   "pygments_lexer": "ipython3",
   "version": "3.8.2-final"
  }
 },
 "nbformat": 4,
 "nbformat_minor": 4
}