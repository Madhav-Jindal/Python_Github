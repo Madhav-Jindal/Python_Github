{
 "cells": [
  {
   "cell_type": "markdown",
   "metadata": {},
   "source": [
    "### LISTS\n",
    "    Lists are surrounded by square brackets and the elements in the list are seperated by commas\n",
    "    A list can also contain another list\n",
    "    Strings are mutable unlike strings\n",
    "    Lists can be conctenated and sliced\n",
    "    .sort/.append\n",
    "    sum(name)/max(name)/len(name)"
   ]
  },
  {
   "cell_type": "code",
   "execution_count": 29,
   "metadata": {},
   "outputs": [
    {
     "name": "stdout",
     "output_type": "stream",
     "text": [
      "This is a list [1,2,3]\n",
      "This is also a  list ['red','yellow','blue']\n",
      "1\n",
      "2\n",
      "3\n",
      "4\n",
      "5\n",
      "[1, 2, 0, 4, 5]\n",
      "range(0, 2)\n",
      "['Hello', 'World']\n",
      "['a', 'd', 'e', 'z']\n",
      "12\n"
     ]
    }
   ],
   "source": [
    "print(\"This is a list\",\"[1,2,3]\")\n",
    "print(\"This is also a  list\",\"['red','yellow','blue']\")\n",
    "\n",
    "##Using lists in loops\n",
    "x=[1,2,3,4,5]\n",
    "for y in x:\n",
    "    print(x[y-1])\n",
    "##Updating lists\n",
    "x[2]=0\n",
    "print(x)\n",
    "print(range(2))\n",
    "##Appending lists\n",
    "l=list()\n",
    "l.append(\"Hello\")\n",
    "l.append(\"World\")\n",
    "print(l)\n",
    "l=['z','a','d','e']\n",
    "l.sort()\n",
    "print(l)\n",
    "print(sum(x))\n"
   ]
  },
  {
   "cell_type": "markdown",
   "metadata": {},
   "source": [
    "### List and strings\n",
    "    .split breaks the strings and returns the individual words in a list\n",
    "    .split(;) to explicitily tell split to use () as seperator\n",
    "##### To break a line into words and then look through them individually use split and for loop\n",
    "    \n",
    "\n",
    "    \n",
    "    "
   ]
  },
  {
   "cell_type": "code",
   "execution_count": 34,
   "metadata": {},
   "outputs": [
    {
     "name": "stdout",
     "output_type": "stream",
     "text": [
      "NAME\n"
     ]
    }
   ],
   "source": [
    "w=\"Hello World , My name is madhav\"\n",
    "x=w.upper()\n",
    "p=x.split()\n",
    "print(p[4])"
   ]
  },
  {
   "cell_type": "code",
   "execution_count": 48,
   "metadata": {},
   "outputs": [
    {
     "name": "stdout",
     "output_type": "stream",
     "text": [
      "10\n",
      "[12, 3]\n"
     ]
    }
   ],
   "source": [
    "o=list(range(5))\n",
    "x=[2,3,4,5,6]\n",
    "print(len(o+x))\n",
    "t = [9, 41, 12, 3, 74, 15]\n",
    "print(t[2:4])"
   ]
  }
 ],
 "metadata": {
  "kernelspec": {
   "display_name": "Python 3.8.2 32-bit",
   "language": "python",
   "name": "python38232bita1491e12a8924728a442c660b23b1251"
  },
  "language_info": {
   "codemirror_mode": {
    "name": "ipython",
    "version": 3
   },
   "file_extension": ".py",
   "mimetype": "text/x-python",
   "name": "python",
   "nbconvert_exporter": "python",
   "pygments_lexer": "ipython3",
   "version": "3.8.2"
  }
 },
 "nbformat": 4,
 "nbformat_minor": 4
}
